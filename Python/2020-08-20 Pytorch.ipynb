{
 "metadata": {
  "language_info": {
   "codemirror_mode": {
    "name": "ipython",
    "version": 3
   },
   "file_extension": ".py",
   "mimetype": "text/x-python",
   "name": "python",
   "nbconvert_exporter": "python",
   "pygments_lexer": "ipython3",
   "version": "3.8.5-final"
  },
  "orig_nbformat": 2,
  "kernelspec": {
   "name": "python38364bit3c5e72ed0e7d4b4298963e194ae4babc",
   "display_name": "Python 3.8.3 64-bit"
  }
 },
 "nbformat": 4,
 "nbformat_minor": 2,
 "cells": [
  {
   "cell_type": "code",
   "execution_count": 41,
   "metadata": {},
   "outputs": [
    {
     "output_type": "execute_result",
     "data": {
      "text/plain": "torch.Size([4, 3, 2, 2])"
     },
     "metadata": {},
     "execution_count": 41
    }
   ],
   "source": [
    "# Create pytorch tensor using numpy arrays\n",
    "import torch\n",
    "import numpy as np\n",
    "\n",
    "x = np.array(([1, 2], [3, 4]))\n",
    "x = np.array((x, x, x))\n",
    "x = np.array((x, x, x, x))\n",
    "x = torch.tensor(x)\n",
    "x.size()"
   ]
  },
  {
   "cell_type": "code",
   "execution_count": 37,
   "metadata": {
    "tags": []
   },
   "outputs": [
    {
     "output_type": "stream",
     "name": "stdout",
     "text": "torch.Size([3, 2, 2])\ntorch.Size([3, 2, 2])\ntorch.Size([3, 2, 2])\ntorch.Size([3, 2, 2])\n"
    }
   ],
   "source": [
    "for n in x:\n",
    "    print(n.size())"
   ]
  }
 ]
}